{
  "nbformat": 4,
  "nbformat_minor": 0,
  "metadata": {
    "colab": {
      "name": "miniproject(handwritten digits recognition mnest).ipynb",
      "provenance": [],
      "collapsed_sections": [],
      "authorship_tag": "ABX9TyN+oMLzDz0fqaMqVPTUUV3X",
      "include_colab_link": true
    },
    "kernelspec": {
      "name": "python3",
      "display_name": "Python 3"
    },
    "language_info": {
      "name": "python"
    },
    "accelerator": "GPU"
  },
  "cells": [
    {
      "cell_type": "markdown",
      "metadata": {
        "id": "view-in-github",
        "colab_type": "text"
      },
      "source": [
        "<a href=\"https://colab.research.google.com/github/shubhamjoshi1303/machine-learning-projects/blob/main/miniproject(handwritten_digits_recognition_mnest).ipynb\" target=\"_parent\"><img src=\"https://colab.research.google.com/assets/colab-badge.svg\" alt=\"Open In Colab\"/></a>"
      ]
    },
    {
      "cell_type": "code",
      "execution_count": null,
      "metadata": {
        "id": "_SKKKnwodq1V"
      },
      "outputs": [],
      "source": [
        "import tensorflow as tf"
      ]
    },
    {
      "cell_type": "code",
      "source": [
        "tf.__version__\n"
      ],
      "metadata": {
        "colab": {
          "base_uri": "https://localhost:8080/",
          "height": 35
        },
        "id": "enx6KVqed6ah",
        "outputId": "7e7eefcb-c180-4ec3-c2e9-021020dd1eb5"
      },
      "execution_count": null,
      "outputs": [
        {
          "output_type": "execute_result",
          "data": {
            "text/plain": [
              "'2.8.0'"
            ],
            "application/vnd.google.colaboratory.intrinsic+json": {
              "type": "string"
            }
          },
          "metadata": {},
          "execution_count": 2
        }
      ]
    },
    {
      "cell_type": "code",
      "source": [
        "from tensorflow import keras\n",
        "(x_train, y_train), (x_test, y_test) = tf.keras.datasets.mnist.load_data(path=\"mnist.npz\")"
      ],
      "metadata": {
        "colab": {
          "base_uri": "https://localhost:8080/"
        },
        "id": "W-Ktz1HjeCKf",
        "outputId": "9c622060-cd34-453d-e604-f42eabc8a8d0"
      },
      "execution_count": null,
      "outputs": [
        {
          "output_type": "stream",
          "name": "stdout",
          "text": [
            "Downloading data from https://storage.googleapis.com/tensorflow/tf-keras-datasets/mnist.npz\n",
            "11493376/11490434 [==============================] - 0s 0us/step\n",
            "11501568/11490434 [==============================] - 0s 0us/step\n"
          ]
        }
      ]
    },
    {
      "cell_type": "code",
      "source": [
        "\n",
        "x_train.shape"
      ],
      "metadata": {
        "colab": {
          "base_uri": "https://localhost:8080/"
        },
        "id": "E51si_0OeKM3",
        "outputId": "bbafffdf-107c-4f53-da10-30487cfecc55"
      },
      "execution_count": null,
      "outputs": [
        {
          "output_type": "execute_result",
          "data": {
            "text/plain": [
              "(60000, 28, 28)"
            ]
          },
          "metadata": {},
          "execution_count": 4
        }
      ]
    },
    {
      "cell_type": "code",
      "source": [
        "x_test.shape"
      ],
      "metadata": {
        "colab": {
          "base_uri": "https://localhost:8080/"
        },
        "id": "sw6TGqFbeZMv",
        "outputId": "01b1a9cd-6b37-4a1e-ceb5-11d684ab5046"
      },
      "execution_count": null,
      "outputs": [
        {
          "output_type": "execute_result",
          "data": {
            "text/plain": [
              "(10000, 28, 28)"
            ]
          },
          "metadata": {},
          "execution_count": 5
        }
      ]
    },
    {
      "cell_type": "code",
      "source": [
        "import matplotlib.pyplot as plt\n",
        "i= 1344\n",
        "plt.imshow(x_train[i],cmap='gray')\n",
        "plt.show()\n",
        "print(f\"Output: \",y_train[i])"
      ],
      "metadata": {
        "colab": {
          "base_uri": "https://localhost:8080/",
          "height": 284
        },
        "id": "RoJHUX7YfGAG",
        "outputId": "aadb6d28-ed50-421f-dfdb-fa29ce716c0c"
      },
      "execution_count": null,
      "outputs": [
        {
          "output_type": "display_data",
          "data": {
            "text/plain": [
              "<Figure size 432x288 with 1 Axes>"
            ],
            "image/png": "[encoded data removed]"
          },
          "metadata": {
            "needs_background": "light"
          }
        },
        {
          "output_type": "stream",
          "name": "stdout",
          "text": [
            "Output:  8\n"
          ]
        }
      ]
    },
    {
      "cell_type": "code",
      "source": [
        "x_train[0].min()"
      ],
      "metadata": {
        "colab": {
          "base_uri": "https://localhost:8080/"
        },
        "id": "VAa-_PKvfyw8",
        "outputId": "73137fd2-e54c-44fe-df58-d6e3159ca6bf"
      },
      "execution_count": null,
      "outputs": [
        {
          "output_type": "execute_result",
          "data": {
            "text/plain": [
              "0"
            ]
          },
          "metadata": {},
          "execution_count": 7
        }
      ]
    },
    {
      "cell_type": "code",
      "source": [
        "x_train[0].max()\n"
      ],
      "metadata": {
        "colab": {
          "base_uri": "https://localhost:8080/"
        },
        "id": "ytHBMpwkiLMU",
        "outputId": "df32b0c4-eaf4-4f82-9ccd-2a2f96433eb0"
      },
      "execution_count": null,
      "outputs": [
        {
          "output_type": "execute_result",
          "data": {
            "text/plain": [
              "255"
            ]
          },
          "metadata": {},
          "execution_count": 8
        }
      ]
    },
    {
      "cell_type": "code",
      "source": [
        "#normalising the data\n",
        "x_train = x_train/255\n",
        "x_test = x_test/255"
      ],
      "metadata": {
        "id": "kP5FKyLiiPgV"
      },
      "execution_count": null,
      "outputs": []
    },
    {
      "cell_type": "code",
      "source": [
        "x_train[0].shape\n"
      ],
      "metadata": {
        "colab": {
          "base_uri": "https://localhost:8080/"
        },
        "id": "1G_GQqtiiZ74",
        "outputId": "ac1446e2-bb0a-42fa-b372-a0d8430f8966"
      },
      "execution_count": null,
      "outputs": [
        {
          "output_type": "execute_result",
          "data": {
            "text/plain": [
              "(28, 28)"
            ]
          },
          "metadata": {},
          "execution_count": 10
        }
      ]
    },
    {
      "cell_type": "code",
      "source": [
        "#create a neural network\n",
        "model = tf.keras.Sequential()\n",
        "model.add(tf.keras.layers.Flatten(input_shape = x_train[0].shape)) #784 neurons in input layer\n",
        "model.add(tf.keras.layers.Dense(1500,activation ='relu')) #hidden layer can have less than 2*neurons in input = <1568\n",
        "model.add(tf.keras.layers.Dense(10,activation = 'softmax')) #10 neurons \n"
      ],
      "metadata": {
        "id": "Gxv_g3ati4OV"
      },
      "execution_count": null,
      "outputs": []
    },
    {
      "cell_type": "code",
      "source": [
        "model.summary()"
      ],
      "metadata": {
        "colab": {
          "base_uri": "https://localhost:8080/"
        },
        "id": "H1V-iXes0RWE",
        "outputId": "9e311662-8cfa-429a-e778-964c54dc1cfc"
      },
      "execution_count": null,
      "outputs": [
        {
          "output_type": "stream",
          "name": "stdout",
          "text": [
            "Model: \"sequential\"\n",
            "_________________________________________________________________\n",
            " Layer (type)                Output Shape              Param #   \n",
            "=================================================================\n",
            " flatten (Flatten)           (None, 784)               0         \n",
            "                                                                 \n",
            " dense (Dense)               (None, 1500)              1177500   \n",
            "                                                                 \n",
            " dense_1 (Dense)             (None, 10)                15010     \n",
            "                                                                 \n",
            "=================================================================\n",
            "Total params: 1,192,510\n",
            "Trainable params: 1,192,510\n",
            "Non-trainable params: 0\n",
            "_________________________________________________________________\n"
          ]
        }
      ]
    },
    {
      "cell_type": "code",
      "source": [
        "model.compile(optimizer='adam',loss = 'sparse_categorical_crossentropy',metrics =['accuracy'])"
      ],
      "metadata": {
        "id": "SOJ8cBge1mgi"
      },
      "execution_count": null,
      "outputs": []
    },
    {
      "cell_type": "code",
      "source": [
        "y_pred = model.fit(x_train,y_train,epochs = 20)"
      ],
      "metadata": {
        "colab": {
          "base_uri": "https://localhost:8080/"
        },
        "id": "uJ7HVrGU29To",
        "outputId": "c549853d-ccbe-49de-c7b6-a1af80e84a01"
      },
      "execution_count": null,
      "outputs": [
        {
          "output_type": "stream",
          "name": "stdout",
          "text": [
            "Epoch 1/20\n",
            "1875/1875 [==============================] - 12s 4ms/step - loss: 0.1760 - accuracy: 0.9471\n",
            "Epoch 2/20\n",
            "1875/1875 [==============================] - 9s 5ms/step - loss: 0.0736 - accuracy: 0.9767\n",
            "Epoch 3/20\n",
            "1875/1875 [==============================] - 7s 4ms/step - loss: 0.0484 - accuracy: 0.9843\n",
            "Epoch 4/20\n",
            "1875/1875 [==============================] - 7s 4ms/step - loss: 0.0343 - accuracy: 0.9887\n",
            "Epoch 5/20\n",
            "1875/1875 [==============================] - 7s 4ms/step - loss: 0.0264 - accuracy: 0.9917\n",
            "Epoch 6/20\n",
            "1875/1875 [==============================] - 7s 4ms/step - loss: 0.0211 - accuracy: 0.9931\n",
            "Epoch 7/20\n",
            "1875/1875 [==============================] - 7s 4ms/step - loss: 0.0158 - accuracy: 0.9944\n",
            "Epoch 8/20\n",
            "1875/1875 [==============================] - 7s 4ms/step - loss: 0.0180 - accuracy: 0.9941\n",
            "Epoch 9/20\n",
            "1875/1875 [==============================] - 7s 4ms/step - loss: 0.0163 - accuracy: 0.9948\n",
            "Epoch 10/20\n",
            "1875/1875 [==============================] - 7s 4ms/step - loss: 0.0128 - accuracy: 0.9959\n",
            "Epoch 11/20\n",
            "1875/1875 [==============================] - 7s 4ms/step - loss: 0.0128 - accuracy: 0.9959\n",
            "Epoch 12/20\n",
            "1875/1875 [==============================] - 7s 4ms/step - loss: 0.0107 - accuracy: 0.9965\n",
            "Epoch 13/20\n",
            "1875/1875 [==============================] - 7s 4ms/step - loss: 0.0111 - accuracy: 0.9966\n",
            "Epoch 14/20\n",
            "1875/1875 [==============================] - 7s 4ms/step - loss: 0.0094 - accuracy: 0.9969\n",
            "Epoch 15/20\n",
            "1875/1875 [==============================] - 7s 4ms/step - loss: 0.0119 - accuracy: 0.9963\n",
            "Epoch 16/20\n",
            "1875/1875 [==============================] - 7s 4ms/step - loss: 0.0104 - accuracy: 0.9969\n",
            "Epoch 17/20\n",
            "1875/1875 [==============================] - 7s 4ms/step - loss: 0.0088 - accuracy: 0.9977\n",
            "Epoch 18/20\n",
            "1875/1875 [==============================] - 7s 4ms/step - loss: 0.0071 - accuracy: 0.9978\n",
            "Epoch 19/20\n",
            "1875/1875 [==============================] - 7s 4ms/step - loss: 0.0102 - accuracy: 0.9971\n",
            "Epoch 20/20\n",
            "1875/1875 [==============================] - 7s 4ms/step - loss: 0.0067 - accuracy: 0.9979\n"
          ]
        }
      ]
    },
    {
      "cell_type": "code",
      "source": [
        "model.get_weights()"
      ],
      "metadata": {
        "colab": {
          "base_uri": "https://localhost:8080/"
        },
        "id": "UNX9YbQs4k7E",
        "outputId": "e0f77f4e-1644-4c01-e8fd-38e26086ba12"
      },
      "execution_count": null,
      "outputs": [
        {
          "output_type": "execute_result",
          "data": {
            "text/plain": [
              "[array([[ 0.04909601, -0.01347019, -0.0439949 , ..., -0.01607749,\n",
              "          0.04518657,  0.02749881],\n",
              "        [-0.00771694, -0.04006028, -0.02798662, ...,  0.02236078,\n",
              "         -0.01861283, -0.02710613],\n",
              "        [ 0.00967991,  0.02546727,  0.01941325, ..., -0.01652274,\n",
              "         -0.00667461,  0.00946726],\n",
              "        ...,\n",
              "        [ 0.03539884,  0.02168705, -0.03883209, ..., -0.05101386,\n",
              "         -0.00504494,  0.02576389],\n",
              "        [-0.04958341,  0.0127736 ,  0.04633332, ...,  0.01267533,\n",
              "          0.01605871, -0.03753082],\n",
              "        [ 0.03152489,  0.02580848,  0.01084956, ..., -0.02345191,\n",
              "         -0.02267004,  0.03255436]], dtype=float32),\n",
              " array([-0.04700682,  0.06800857, -0.01049591, ...,  0.03006056,\n",
              "        -0.01448144, -0.04525715], dtype=float32),\n",
              " array([[-0.22201912,  0.27495906, -0.081226  , ..., -0.27379844,\n",
              "          0.074369  , -0.12000363],\n",
              "        [-0.19972692, -0.14117102,  0.3270516 , ..., -0.03142212,\n",
              "          0.15168916, -0.41354105],\n",
              "        [-0.06917483, -0.03602679, -0.03715117, ..., -0.05604628,\n",
              "         -0.05877283, -0.03990541],\n",
              "        ...,\n",
              "        [ 0.07267322, -0.18271779,  0.10937573, ...,  0.01656649,\n",
              "          0.062618  , -0.36448067],\n",
              "        [-0.00623765,  0.04727624, -0.02751131, ...,  0.02114493,\n",
              "          0.05162201, -0.05323253],\n",
              "        [-0.14760748,  0.11470415, -0.16218776, ..., -0.05437711,\n",
              "         -0.37064162, -0.34128267]], dtype=float32),\n",
              " array([ 0.07634745, -0.26483676, -0.04870027, -0.07479151,  0.00867814,\n",
              "        -0.13324417, -0.0480456 , -0.25915378,  0.55832934,  0.03440387],\n",
              "       dtype=float32)]"
            ]
          },
          "metadata": {},
          "execution_count": 15
        }
      ]
    },
    {
      "cell_type": "code",
      "source": [
        "import numpy as np\n",
        "np.argmax(model.predict(x_test),axis=1) #predicted output"
      ],
      "metadata": {
        "colab": {
          "base_uri": "https://localhost:8080/"
        },
        "id": "zd3WEadT5Fog",
        "outputId": "b04fc927-428d-46e7-d122-682eb1107428"
      },
      "execution_count": null,
      "outputs": [
        {
          "output_type": "execute_result",
          "data": {
            "text/plain": [
              "array([7, 2, 1, ..., 4, 5, 6])"
            ]
          },
          "metadata": {},
          "execution_count": 18
        }
      ]
    },
    {
      "cell_type": "code",
      "source": [
        "y_test #actual output"
      ],
      "metadata": {
        "colab": {
          "base_uri": "https://localhost:8080/"
        },
        "id": "xJjy7f3T5hDg",
        "outputId": "0f2e57a1-0d29-49fe-e210-35453849e604"
      },
      "execution_count": null,
      "outputs": [
        {
          "output_type": "execute_result",
          "data": {
            "text/plain": [
              "array([7, 2, 1, ..., 4, 5, 6], dtype=uint8)"
            ]
          },
          "metadata": {},
          "execution_count": 19
        }
      ]
    },
    {
      "cell_type": "code",
      "source": [
        "#creating a neural network model and storing it .hdf5 format\n",
        "model.save('model_mnist.hdf5')  #saving weights to use it later\n"
      ],
      "metadata": {
        "id": "Jxy0_XLu5tAR"
      },
      "execution_count": null,
      "outputs": []
    },
    {
      "cell_type": "code",
      "source": [
        ""
      ],
      "metadata": {
        "id": "hyNXC3dR6Yav"
      },
      "execution_count": null,
      "outputs": []
    }
  ]
}